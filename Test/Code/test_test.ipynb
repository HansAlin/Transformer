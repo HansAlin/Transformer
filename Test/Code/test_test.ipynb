{
 "cells": [
  {
   "cell_type": "code",
   "execution_count": 1,
   "metadata": {},
   "outputs": [],
   "source": [
    "import numpy as np\n",
    "import pandas as pd\n",
    "import matplotlib.pyplot as plt"
   ]
  },
  {
   "cell_type": "code",
   "execution_count": 6,
   "metadata": {},
   "outputs": [
    {
     "data": {
      "image/png": "[encoded data removed]",
      "text/plain": [
       "<Figure size 432x288 with 1 Axes>"
      ]
     },
     "metadata": {
      "needs_background": "light"
     },
     "output_type": "display_data"
    }
   ],
   "source": [
    "\n",
    "rows = 100\n",
    "cols = 100\n",
    "sigma = 20\n",
    "\n",
    "row = np.arange(rows).reshape(-1, 1)  # reshape to column vector\n",
    "col = np.arange(cols)\n",
    "\n",
    "G = np.exp(-(np.abs(row - col) / sigma)**2)\n",
    "\n",
    "seq_len = 50\n",
    "score = np.ones((seq_len, seq_len))\n",
    "G = G[:seq_len, :seq_len]\n",
    "value = G * score\n",
    "\n",
    "plt.imshow(value, cmap='gray')\n",
    "plt.show()\n",
    "    "
   ]
  }
 ],
 "metadata": {
  "kernelspec": {
   "display_name": "base",
   "language": "python",
   "name": "python3"
  },
  "language_info": {
   "codemirror_mode": {
    "name": "ipython",
    "version": 3
   },
   "file_extension": ".py",
   "mimetype": "text/x-python",
   "name": "python",
   "nbconvert_exporter": "python",
   "pygments_lexer": "ipython3",
   "version": "3.8.3"
  }
 },
 "nbformat": 4,
 "nbformat_minor": 2
}
