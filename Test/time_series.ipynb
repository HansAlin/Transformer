{
 "cells": [
  {
   "cell_type": "code",
   "execution_count": 2,
   "metadata": {},
   "outputs": [],
   "source": [
    "import numpy as np\n",
    "import pandas as pd\n",
    "import torch \n",
    "import torch.nn as nn\n",
    "from torch.utils.data import DataLoader, TensorDataset\n",
    "from sklearn.preprocessing import StandardScaler\n",
    "from torch.optim.lr_scheduler import ReduceLROnPlateau"
   ]
  },
  {
   "cell_type": "code",
   "execution_count": 3,
   "metadata": {},
   "outputs": [
    {
     "name": "stdout",
     "output_type": "stream",
     "text": [
      "Using device: cpu\n"
     ]
    },
    {
     "name": "stderr",
     "output_type": "stream",
     "text": [
      "/tmp/ipykernel_5076/1229531653.py:3: UserWarning: 'has_mps' is deprecated, please use 'torch.backends.mps.is_built()'\n",
      "  if getattr(torch, \"has_mps\", False)\n"
     ]
    }
   ],
   "source": [
    "device = (\n",
    "    \"mps\"\n",
    "    if getattr(torch, \"has_mps\", False)\n",
    "    else \"cuda\"\n",
    "    if torch.cuda.is_available()\n",
    "    else \"cpu\"\n",
    ")\n",
    "print(f\"Using device: {device}\")"
   ]
  },
  {
   "cell_type": "code",
   "execution_count": 4,
   "metadata": {},
   "outputs": [],
   "source": [
    "names = ['year', 'month', 'day', 'dec_year', 'sn_value', 'sn_error', 'obs_num', 'unuesed1']\n",
    "\n",
    "df = pd.read_csv(\n",
    "    \"https://data.heatonresearch.com/data/t81-558/SN_d_tot_V2.0.csv\",\n",
    "    sep=';', header=None, names=names,\n",
    "    na_values=['-1'], index_col=False)\n",
    "# starts with first none zero value\n",
    "l = df[df['obs_num'] == 0].index.tolist()\n",
    "start_id = max(l) + 40000\n",
    "sorted_data = df[start_id:].copy()"
   ]
  },
  {
   "cell_type": "code",
   "execution_count": 5,
   "metadata": {},
   "outputs": [
    {
     "name": "stdout",
     "output_type": "stream",
     "text": [
      "(15161, 1)\n",
      "6391\n"
     ]
    }
   ],
   "source": [
    "\n",
    "\n",
    "sorted_data['sn_value'] = sorted_data['sn_value'].astype(float)\n",
    "df_train = sorted_data[sorted_data['year'] < 2000]\n",
    "df_test = sorted_data[sorted_data['year'] >= 2000]\n",
    "\n",
    "spots_train = df_train['sn_value'].to_numpy().reshape(-1, 1)\n",
    "spots_test = df_test['sn_value'].to_numpy().reshape(-1, 1)\n",
    "print(spots_train.shape)\n",
    "scaler = StandardScaler()\n",
    "spots_train = scaler.fit_transform(spots_train).flatten().tolist()\n",
    "spots_test = scaler.fit_transform(spots_test).flatten().tolist()\n",
    "print(len(spots_test))\n",
    "\n"
   ]
  },
  {
   "cell_type": "code",
   "execution_count": 6,
   "metadata": {},
   "outputs": [],
   "source": [
    "def to_sequence(seq_size, obs):\n",
    "  x = []\n",
    "  y = []\n",
    "  for i in range(len(obs) - seq_size):\n",
    "    window = obs[i:(i + seq_size)]\n",
    "    after_window = obs[i + seq_size]\n",
    "    x.append(window)\n",
    "    y.append(after_window)\n",
    "\n",
    "  return torch.tensor(x, dtype=torch.float32).view(-1, seq_size, 1), torch.tensor(y, dtype=torch.float32).view(-1,1,1) "
   ]
  },
  {
   "cell_type": "code",
   "execution_count": 7,
   "metadata": {},
   "outputs": [
    {
     "name": "stdout",
     "output_type": "stream",
     "text": [
      "torch.Size([15151, 10, 1])\n"
     ]
    }
   ],
   "source": [
    "SEQUENCE_SIZE = 10\n",
    "x_train, y_train = to_sequence(seq_size=SEQUENCE_SIZE, obs=spots_train)\n",
    "x_test, y_test = to_sequence(seq_size=SEQUENCE_SIZE, obs=spots_test)\n",
    "print(x_train.shape)\n"
   ]
  },
  {
   "cell_type": "code",
   "execution_count": 8,
   "metadata": {},
   "outputs": [],
   "source": [
    "# Setup data loaders for batch\n",
    "# Create a dataset that contains tensors\n",
    "train_dataset = TensorDataset(x_train, y_train)\n",
    "train_loader = DataLoader(dataset=train_dataset, batch_size=32, shuffle=True)\n",
    "\n",
    "test_dataset = TensorDataset(x_test, y_test)\n",
    "test_loader = DataLoader(dataset=test_dataset, batch_size=32, shuffle=True)\n",
    "\n"
   ]
  },
  {
   "cell_type": "code",
   "execution_count": 8,
   "metadata": {},
   "outputs": [
    {
     "data": {
      "text/plain": [
       "55168"
      ]
     },
     "execution_count": 8,
     "metadata": {},
     "output_type": "execute_result"
    }
   ],
   "source": [
    "1724*32"
   ]
  },
  {
   "cell_type": "code",
   "execution_count": 9,
   "metadata": {},
   "outputs": [],
   "source": [
    "# Positional encoding\n",
    "class PositionalEncoding(nn.Module):\n",
    "  def __init__(self, d_model, dropout=0.1, max_len=5000):\n",
    "    super(PositionalEncoding, self).__init__()\n",
    "    self.dropout = nn.Dropout(p=dropout)\n",
    "\n",
    "    pe = torch.zeros(max_len, d_model)\n",
    "    position = torch.arange(0, max_len, dtype=torch.float32).unsqueeze(1)\n",
    "    div_term = torch.exp(torch.arange(0, d_model, 2).float() * (-np.log(10000.0) / d_model))\n",
    "    pe[:, 0::2] = torch.sin(position*div_term)\n",
    "    pe[:, 1::2] = torch.cos(position*div_term)\n",
    "    # add dimensions and transpose TODO understand the dimensions\n",
    "    pe = pe.unsqueeze(0).transpose(0,1)\n",
    "    # This I don't understand\n",
    "    self.register_buffer('pe', pe)\n",
    "\n",
    "  def forward(self, x):\n",
    "    x = x + self.pe[:x.size(0), :]\n",
    "    return self.dropout(x)  \n"
   ]
  },
  {
   "cell_type": "code",
   "execution_count": 10,
   "metadata": {},
   "outputs": [],
   "source": [
    "# Define model\n",
    "class TransformerModel(nn.Module):\n",
    "  def __init__(self, input_dim=1, d_model=64, nhead=4, num_layers=2, dropout=0.2):\n",
    "    super(TransformerModel, self).__init__()\n",
    "\n",
    "    self.encoder = nn.Linear(input_dim, d_model)\n",
    "    self.pos_encoder = PositionalEncoding(d_model=d_model, dropout=dropout, max_len=5000)\n",
    "    encoder_layer = nn.TransformerEncoderLayer(d_model=d_model, nhead=nhead)\n",
    "    self.transformer = nn.TransformerEncoder(encoder_layer=encoder_layer, num_layers=num_layers)\n",
    "    self.decoder = nn.Linear(d_model, 1)\n",
    "\n",
    "  def forward(self, x):\n",
    "    x = self.encoder(x)\n",
    "    x = self.pos_encoder(x)\n",
    "    x = self.transformer(x)\n",
    "    x = self.decoder(x[:, -1, :])\n",
    "    return x  \n",
    "    "
   ]
  },
  {
   "cell_type": "code",
   "execution_count": 11,
   "metadata": {},
   "outputs": [
    {
     "name": "stderr",
     "output_type": "stream",
     "text": [
      "/home/hansalin/anaconda3/envs/myenv/lib/python3.8/site-packages/torch/nn/modules/transformer.py:282: UserWarning: enable_nested_tensor is True, but self.use_nested_tensor is False because encoder_layer.self_attn.batch_first was not True(use batch_first for better inference performance)\n",
      "  warnings.warn(f\"enable_nested_tensor is True, but self.use_nested_tensor is False because {why_not_sparsity_fast_path}\")\n"
     ]
    }
   ],
   "source": [
    "model = TransformerModel()"
   ]
  },
  {
   "cell_type": "code",
   "execution_count": 13,
   "metadata": {},
   "outputs": [
    {
     "name": "stderr",
     "output_type": "stream",
     "text": [
      "/home/hansalin/anaconda3/envs/myenv/lib/python3.8/site-packages/torch/nn/modules/loss.py:535: UserWarning: Using a target size (torch.Size([32, 1, 1])) that is different to the input size (torch.Size([32, 1])). This will likely lead to incorrect results due to broadcasting. Please ensure they have the same size.\n",
      "  return F.mse_loss(input, target, reduction=self.reduction)\n",
      "/home/hansalin/anaconda3/envs/myenv/lib/python3.8/site-packages/torch/nn/modules/loss.py:535: UserWarning: Using a target size (torch.Size([15, 1, 1])) that is different to the input size (torch.Size([15, 1])). This will likely lead to incorrect results due to broadcasting. Please ensure they have the same size.\n",
      "  return F.mse_loss(input, target, reduction=self.reduction)\n",
      "/home/hansalin/anaconda3/envs/myenv/lib/python3.8/site-packages/torch/nn/modules/loss.py:535: UserWarning: Using a target size (torch.Size([13, 1, 1])) that is different to the input size (torch.Size([13, 1])). This will likely lead to incorrect results due to broadcasting. Please ensure they have the same size.\n",
      "  return F.mse_loss(input, target, reduction=self.reduction)\n"
     ]
    },
    {
     "name": "stdout",
     "output_type": "stream",
     "text": [
      "Epoch 1/2, Training Loss: 0.9763040377243661, Validation Loss: 0.9782\n",
      "Epoch 2/2, Training Loss: 0.9887852688881918, Validation Loss: 0.9893\n"
     ]
    }
   ],
   "source": [
    "# Train model\n",
    "criterion = nn.MSELoss()\n",
    "optimizer = torch.optim.Adam(model.parameters(), lr=0.001)\n",
    "# TODO try to understand ReduceLROnPlateau\n",
    "scheduler = ReduceLROnPlateau(optimizer, 'min', factor=0.5, patience=3, verbose=True)\n",
    "\n",
    "epochs = 2\n",
    "early_stop_count = 0\n",
    "min_val_loss = float('inf')  # TODO ????\n",
    "val_losses = []\n",
    "train_losses = []\n",
    "for epoch in range(epochs):\n",
    "  # set the model in training mode\n",
    "  model.train()\n",
    "  train_loss = []\n",
    "  for batch in train_loader:\n",
    "    x_batch, y_batch = batch\n",
    "    x_batch, y_batch = x_batch.to(device), y_batch.to(device)\n",
    "    optimizer.zero_grad()\n",
    "    outputs = model(x_batch)\n",
    "    loss = criterion(outputs, y_batch)\n",
    "    train_loss.append(loss.item()) \n",
    "    loss.backward()\n",
    "    optimizer.step()\n",
    "\n",
    "  train_loss = np.mean(train_loss)\n",
    "  # validation\n",
    "  # set model in evaluation mode\n",
    "  val_loss = []\n",
    "  \n",
    "  # This part should not be part of the model thats the reason for .no_grad()\n",
    "  with torch.no_grad():\n",
    "    for batch in test_loader:\n",
    "      x_batch, y_batch = batch\n",
    "      x_batch, y_batch = x_batch.to(device), y_batch.to(device)\n",
    "      outputs = model(x_batch)\n",
    "      loss = criterion(outputs, y_batch)\n",
    "      val_loss.append(loss.item())   \n",
    "          \n",
    "    val_loss = np.mean(val_loss)\n",
    "    scheduler.step(val_loss)\n",
    "\n",
    "  if val_loss < min_val_loss:\n",
    "      min_val_loss = val_loss\n",
    "      early_stop_count = 0\n",
    "  else:\n",
    "      early_stop_count += 1\n",
    "\n",
    "  if early_stop_count >= 5:\n",
    "      print(\"Early stopping!\")\n",
    "      break\n",
    "  \n",
    "  print(f\"Epoch {epoch + 1}/{epochs}, Training Loss: {train_loss}, Validation Loss: {val_loss:.4f}\")\n",
    "  train_losses.append(train_loss)\n",
    "  val_losses.append(val_loss)\n"
   ]
  },
  {
   "cell_type": "code",
   "execution_count": 14,
   "metadata": {},
   "outputs": [
    {
     "name": "stdout",
     "output_type": "stream",
     "text": [
      "\n"
     ]
    }
   ],
   "source": [
    "# Evaluation\n",
    "model.eval()\n",
    "predictions = []\n",
    "with torch.no_grad():\n",
    "  for batch in test_loader:\n",
    "    x_batch, y_batch = batch\n",
    "    x_batch = x_batch.to(device)\n",
    "    outputs = model(x_batch)\n",
    "    predictions.extend(outputs.squeeze().tolist())\n",
    "print() "
   ]
  },
  {
   "cell_type": "code",
   "execution_count": 26,
   "metadata": {},
   "outputs": [
    {
     "name": "stdout",
     "output_type": "stream",
     "text": [
      "(6381, 1)\n",
      "(6381, 1)\n"
     ]
    }
   ],
   "source": [
    "pred = np.array(predictions).reshape(-1,1)\n",
    "print(pred.shape)\n",
    "y = np.array(y_test.reshape(-1,1))\n",
    "print(y.shape)"
   ]
  },
  {
   "cell_type": "code",
   "execution_count": 33,
   "metadata": {},
   "outputs": [
    {
     "name": "stdout",
     "output_type": "stream",
     "text": [
      "(6381, 1)\n",
      "(6381, 1)\n",
      "(6381, 1)\n",
      "(6381, 1)\n",
      "Score (RMSE): 64.7249\n"
     ]
    }
   ],
   "source": [
    "#print(predictions.shape)\n",
    "print(np.array(predictions).reshape(-1, 1).shape)\n",
    "print(scaler.inverse_transform(np.array(predictions).reshape(-1, 1)).shape)\n",
    "\n",
    "print(y_test.numpy().reshape(-1, 1).shape)\n",
    "print(scaler.inverse_transform(y_test.numpy().reshape(-1, 1)).shape)\n",
    "\n",
    "\n",
    "rmse = np.sqrt(np.mean((scaler.inverse_transform(np.array(predictions).reshape(-1, 1)) - scaler.inverse_transform(y_test.numpy().reshape(-1, 1)))**2))\n",
    "print(f\"Score (RMSE): {rmse:.4f}\")"
   ]
  },
  {
   "cell_type": "code",
   "execution_count": 28,
   "metadata": {},
   "outputs": [
    {
     "name": "stdout",
     "output_type": "stream",
     "text": [
      "(6381, 1)\n",
      "(6381, 1)\n"
     ]
    },
    {
     "ename": "TypeError",
     "evalue": "mean() missing 1 required positional argument: 'a'",
     "output_type": "error",
     "traceback": [
      "\u001b[0;31m---------------------------------------------------------------------------\u001b[0m",
      "\u001b[0;31mTypeError\u001b[0m                                 Traceback (most recent call last)",
      "\u001b[1;32m/home/hansalin/Code/Transformer/Test/time_series.ipynb Cell 15\u001b[0m line \u001b[0;36m5\n\u001b[1;32m      <a href='vscode-notebook-cell://wsl%2Bubuntu/home/hansalin/Code/Transformer/Test/time_series.ipynb#X24sdnNjb2RlLXJlbW90ZQ%3D%3D?line=2'>3</a>\u001b[0m square \u001b[39m=\u001b[39m dif\u001b[39m*\u001b[39m\u001b[39m*\u001b[39m\u001b[39m2\u001b[39m\n\u001b[1;32m      <a href='vscode-notebook-cell://wsl%2Bubuntu/home/hansalin/Code/Transformer/Test/time_series.ipynb#X24sdnNjb2RlLXJlbW90ZQ%3D%3D?line=3'>4</a>\u001b[0m \u001b[39mprint\u001b[39m(square\u001b[39m.\u001b[39mshape)\n\u001b[0;32m----> <a href='vscode-notebook-cell://wsl%2Bubuntu/home/hansalin/Code/Transformer/Test/time_series.ipynb#X24sdnNjb2RlLXJlbW90ZQ%3D%3D?line=4'>5</a>\u001b[0m mse \u001b[39m=\u001b[39m np\u001b[39m.\u001b[39msqrt(np\u001b[39m.\u001b[39;49mmean())\n\u001b[1;32m      <a href='vscode-notebook-cell://wsl%2Bubuntu/home/hansalin/Code/Transformer/Test/time_series.ipynb#X24sdnNjb2RlLXJlbW90ZQ%3D%3D?line=5'>6</a>\u001b[0m \u001b[39mprint\u001b[39m(rmse)\n",
      "File \u001b[0;32m<__array_function__ internals>:198\u001b[0m, in \u001b[0;36mmean\u001b[0;34m(*args, **kwargs)\u001b[0m\n",
      "\u001b[0;31mTypeError\u001b[0m: mean() missing 1 required positional argument: 'a'"
     ]
    }
   ],
   "source": [
    "dif = (pred-y)\n",
    "print(dif.shape)\n",
    "square = dif**2\n",
    "print(square.shape)\n",
    "mse = np.sqrt(np.mean())\n",
    "print(rmse)"
   ]
  },
  {
   "cell_type": "code",
   "execution_count": 16,
   "metadata": {},
   "outputs": [
    {
     "data": {
      "text/plain": [
       "tensor([[ 0.9242],\n",
       "        [ 1.9314],\n",
       "        [ 2.3653],\n",
       "        ...,\n",
       "        [-0.8732],\n",
       "        [-0.9507],\n",
       "        [-0.9662]])"
      ]
     },
     "execution_count": 16,
     "metadata": {},
     "output_type": "execute_result"
    }
   ],
   "source": [
    "y_test.reshape(-1,1)"
   ]
  }
 ],
 "metadata": {
  "kernelspec": {
   "display_name": "myenv",
   "language": "python",
   "name": "python3"
  },
  "language_info": {
   "codemirror_mode": {
    "name": "ipython",
    "version": 3
   },
   "file_extension": ".py",
   "mimetype": "text/x-python",
   "name": "python",
   "nbconvert_exporter": "python",
   "pygments_lexer": "ipython3",
   "version": "3.8.18"
  }
 },
 "nbformat": 4,
 "nbformat_minor": 2
}
