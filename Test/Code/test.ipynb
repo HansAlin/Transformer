{
 "cells": [
  {
   "cell_type": "code",
   "execution_count": 20,
   "metadata": {},
   "outputs": [
    {
     "name": "stdout",
     "output_type": "stream",
     "text": [
      "/home/hansalin/Code/Transformer/Test/Code\n",
      "/home/hansalin/anaconda3/envs/myenv/lib/python38.zip\n",
      "/home/hansalin/anaconda3/envs/myenv/lib/python3.8\n",
      "/home/hansalin/anaconda3/envs/myenv/lib/python3.8/lib-dynload\n",
      "\n",
      "/home/hansalin/.local/lib/python3.8/site-packages\n",
      "/home/hansalin/anaconda3/envs/myenv/lib/python3.8/site-packages\n",
      "/home/hansalin/Code/Transformer/Test/dataHandler\n",
      "/home/hansalin/Code/Transformer/Test\n",
      "/home/hansalin/Code/Transformer/Test\n",
      "/home/hansalin/Code/Transformer/Test\n",
      "Host name:  LAPTOP-9FBI5S57\n"
     ]
    }
   ],
   "source": [
    "from os.path import dirname, abspath, join\n",
    "import sys\n",
    "#import numpy as np\n",
    "#from sklearn.preprocessing import StandardScaler\n",
    "import torch \n",
    "import torch.nn as nn\n",
    "from torch.utils.data import DataLoader, TensorDataset\n",
    "from torch.optim.lr_scheduler import ReduceLROnPlateau\n",
    "import matplotlib.pyplot as plt\n",
    "from os.path import dirname, abspath, join\n",
    "import sys\n",
    "\n",
    "# # Find code directory relative to our directory\n",
    "# THIS_DIR = dirname(__file__)\n",
    "# CODE_DIR = abspath(join(THIS_DIR, '..', ''))\n",
    "sys.path.append('/home/hansalin/Code/Transformer/Test')\n",
    "\n",
    "type(sys.path)\n",
    "for path in sys.path:\n",
    "   print(path)\n",
    "\n",
    "import os\n",
    "myhost = os.uname()[1]\n",
    "\n",
    "print(\"Host name: \", myhost)\n"
   ]
  },
  {
   "cell_type": "code",
   "execution_count": 21,
   "metadata": {},
   "outputs": [],
   "source": [
    "config = {'model_name': \"base_encoder\",\n",
    "            'model':None,\n",
    "            'embed_size': 64,\n",
    "            'seq_len': 100,\n",
    "            'd_model': 512,\n",
    "            'N': 8,\n",
    "            'h': 4,\n",
    "            'dropout': 0.1,\n",
    "            'num_epochs': 25,\n",
    "            'batch_size': 32,\n",
    "            \"experiment_name\": f\"/home/halin/Master/Transformer/Test/ModelsResults/model_{999}/runs\",\n",
    "            \"learning_rate\": 1e-3,\n",
    "            \"num_parms\":0,\n",
    "            \"data_path\": '',\n",
    "\n",
    "          }"
   ]
  },
  {
   "cell_type": "code",
   "execution_count": 22,
   "metadata": {},
   "outputs": [],
   "source": [
    "\n",
    "import dataHandler.datahandler as dh\n",
    "import models.models_1 as md\n",
    "import training.train as tr"
   ]
  },
  {
   "cell_type": "code",
   "execution_count": 23,
   "metadata": {},
   "outputs": [
    {
     "name": "stdout",
     "output_type": "stream",
     "text": [
      "Using device: cpu\n",
      "Number of paramters: 25204360\n"
     ]
    },
    {
     "ename": "FileNotFoundError",
     "evalue": "[Errno 2] No such file or directory: '/home/halin/Master/Transformer/Test/data/test_data.npy'",
     "output_type": "error",
     "traceback": [
      "\u001b[0;31m---------------------------------------------------------------------------\u001b[0m",
      "\u001b[0;31mFileNotFoundError\u001b[0m                         Traceback (most recent call last)",
      "\u001b[1;32m/home/hansalin/Code/Transformer/Test/Code/test.ipynb Cell 4\u001b[0m line \u001b[0;36m1\n\u001b[0;32m----> <a href='vscode-notebook-cell://wsl%2Bubuntu/home/hansalin/Code/Transformer/Test/Code/test.ipynb#W2sdnNjb2RlLXJlbW90ZQ%3D%3D?line=0'>1</a>\u001b[0m trained_model \u001b[39m=\u001b[39m tr\u001b[39m.\u001b[39;49mtraining(config)\n",
      "File \u001b[0;32m~/Code/Transformer/Test/training/train.py:39\u001b[0m, in \u001b[0;36mtraining\u001b[0;34m(config)\u001b[0m\n\u001b[1;32m     35\u001b[0m criterion \u001b[39m=\u001b[39m nn\u001b[39m.\u001b[39mBCELoss()\u001b[39m.\u001b[39mto(device)\n\u001b[1;32m     36\u001b[0m optimizer \u001b[39m=\u001b[39m torch\u001b[39m.\u001b[39moptim\u001b[39m.\u001b[39mAdam(model\u001b[39m.\u001b[39mparameters(), lr\u001b[39m=\u001b[39mconfig[\u001b[39m'\u001b[39m\u001b[39mlearning_rate\u001b[39m\u001b[39m'\u001b[39m])\n\u001b[0;32m---> 39\u001b[0m x_train, x_test, y_train, y_test \u001b[39m=\u001b[39m get_test_data(path\u001b[39m=\u001b[39;49m\u001b[39m'\u001b[39;49m\u001b[39m/home/halin/Master/Transformer/Test/data/test_data.npy\u001b[39;49m\u001b[39m'\u001b[39;49m)\n\u001b[1;32m     40\u001b[0m train_loader, test_loader \u001b[39m=\u001b[39m prepare_data(x_train, x_test, y_train, y_test, config[\u001b[39m'\u001b[39m\u001b[39mbatch_size\u001b[39m\u001b[39m'\u001b[39m])\n\u001b[1;32m     43\u001b[0m writer \u001b[39m=\u001b[39m SummaryWriter(config[\u001b[39m'\u001b[39m\u001b[39mexperiment_name\u001b[39m\u001b[39m'\u001b[39m])\n",
      "File \u001b[0;32m~/Code/Transformer/Test/dataHandler/datahandler.py:65\u001b[0m, in \u001b[0;36mget_test_data\u001b[0;34m(path)\u001b[0m\n\u001b[1;32m     59\u001b[0m   path \u001b[39m=\u001b[39m os\u001b[39m.\u001b[39mgetcwd()\n\u001b[1;32m     60\u001b[0m   path \u001b[39m=\u001b[39m path \u001b[39m+\u001b[39m \u001b[39m'\u001b[39m\u001b[39m/Test/data/test_data.npy\u001b[39m\u001b[39m'\u001b[39m \n\u001b[0;32m---> 65\u001b[0m \u001b[39mwith\u001b[39;00m \u001b[39mopen\u001b[39;49m(path, \u001b[39m'\u001b[39;49m\u001b[39mrb\u001b[39;49m\u001b[39m'\u001b[39;49m) \u001b[39mas\u001b[39;00m f:\n\u001b[1;32m     66\u001b[0m   x_train \u001b[39m=\u001b[39m np\u001b[39m.\u001b[39mload(f)\n\u001b[1;32m     67\u001b[0m   x_test \u001b[39m=\u001b[39m np\u001b[39m.\u001b[39mload(f)\n",
      "\u001b[0;31mFileNotFoundError\u001b[0m: [Errno 2] No such file or directory: '/home/halin/Master/Transformer/Test/data/test_data.npy'"
     ]
    },
    {
     "ename": "",
     "evalue": "",
     "output_type": "error",
     "traceback": [
      "\u001b[1;31mThe Kernel crashed while executing code in the the current cell or a previous cell. Please review the code in the cell(s) to identify a possible cause of the failure. Click <a href='https://aka.ms/vscodeJupyterKernelCrash'>here</a> for more info. View Jupyter <a href='command:jupyter.viewOutput'>log</a> for further details."
     ]
    }
   ],
   "source": [
    "trained_model = tr.training(config)\n"
   ]
  },
  {
   "cell_type": "code",
   "execution_count": null,
   "metadata": {},
   "outputs": [],
   "source": [
    "                            \n",
    "tr.save_data(trained_model=trained_model)\n"
   ]
  },
  {
   "cell_type": "code",
   "execution_count": null,
   "metadata": {},
   "outputs": [],
   "source": [
    "\n",
    "tr.plot_results(999)"
   ]
  },
  {
   "cell_type": "code",
   "execution_count": null,
   "metadata": {},
   "outputs": [],
   "source": []
  }
 ],
 "metadata": {
  "kernelspec": {
   "display_name": "myenv",
   "language": "python",
   "name": "python3"
  },
  "language_info": {
   "codemirror_mode": {
    "name": "ipython",
    "version": 3
   },
   "file_extension": ".py",
   "mimetype": "text/x-python",
   "name": "python",
   "nbconvert_exporter": "python",
   "pygments_lexer": "ipython3",
   "version": "3.8.18"
  }
 },
 "nbformat": 4,
 "nbformat_minor": 2
}
