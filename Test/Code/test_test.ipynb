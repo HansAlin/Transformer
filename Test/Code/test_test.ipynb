{
 "cells": [
  {
   "cell_type": "code",
   "execution_count": 3,
   "metadata": {},
   "outputs": [],
   "source": [
    "import numpy as np\n",
    "import pandas as pd\n",
    "import matplotlib.pyplot as plt"
   ]
  },
  {
   "cell_type": "code",
   "execution_count": 4,
   "metadata": {},
   "outputs": [
    {
     "data": {
      "image/png": "[encoded data removed]",
      "text/plain": [
       "<Figure size 432x288 with 1 Axes>"
      ]
     },
     "metadata": {
      "needs_background": "light"
     },
     "output_type": "display_data"
    }
   ],
   "source": [
    "model_num = np.asarray([13,                   \n",
    "                        14,                   \n",
    "                        15,                   \n",
    "                        16,                   \n",
    "                        17,                   \n",
    "                        18,                   \n",
    "                        19,                   \n",
    "                        20])\n",
    "bin_100 = np.asarray([ 0.6808828702075272,\n",
    "                      0.7054827646851917,\n",
    "                      0.7629264861062258,\n",
    "                      0.6408283503341541,\n",
    "                      0.7215529370383398,\n",
    "                      0.761849278930707,\n",
    "                      0.7692138586000703,\n",
    "                      0.7226741118536757])\n",
    "bin_1000 = np.asarray([0.8677893070699965,\n",
    "                    0.8708890256771017,\n",
    "                    0.7629264861062258,\n",
    "                    0.86455768554344,\n",
    "                    0.7215529370383398,\n",
    "                    0.8753077734787197,\n",
    "                    0.7692138586000703,\n",
    "                    0.8705153007386564])\n",
    "bin_10000 = np.asarray([0.8682949349278931,\n",
    "                      0.873351213506859,\n",
    "                      0.8596333098839254,\n",
    "                      0.8669319380935632,\n",
    "                      0.83852884277172,\n",
    "                      0.884760816039395,\n",
    "                      0.8756375307773479,\n",
    "                      0.8775721069293])\n",
    "bin_100000 = np.asarray([0.8684048540274358,\n",
    "                       0.8736589869855786,\n",
    "                       0.8610402743580725,\n",
    "                       0.8672177277523743,\n",
    "                       0.841738480478368,\n",
    "                       0.8849806542384805,\n",
    "                       0.8770664790714034,\n",
    "                       0.878055750967288])\n",
    "dic = {'model_num': model_num, '100_bins':bin_100, '1000_bins': bin_1000, '10000_bins' :  bin_10000, '100000_bins':bin_100000 }\n",
    "data = pd.DataFrame(dic)\n",
    "\n",
    "data.plot(x = 'model_num', y = ['100_bins', '1000_bins', '10000_bins', '100000_bins'], kind = 'bar')\n",
    "plt.savefig('/home/halin/Master/Transformer/Test/ModelsResults/test/NSE_AT_NRF.png')"
   ]
  }
 ],
 "metadata": {
  "kernelspec": {
   "display_name": "base",
   "language": "python",
   "name": "python3"
  },
  "language_info": {
   "codemirror_mode": {
    "name": "ipython",
    "version": 3
   },
   "file_extension": ".py",
   "mimetype": "text/x-python",
   "name": "python",
   "nbconvert_exporter": "python",
   "pygments_lexer": "ipython3",
   "version": "3.8.3"
  }
 },
 "nbformat": 4,
 "nbformat_minor": 2
}
