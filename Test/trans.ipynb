{
 "cells": [
  {
   "cell_type": "code",
   "execution_count": null,
   "metadata": {},
   "outputs": [
    {
     "ename": "",
     "evalue": "",
     "output_type": "error",
     "traceback": [
      "\u001b[1;31mRunning cells with 'pytorch' requires the ipykernel package.\n",
      "\u001b[1;31mRun the following command to install 'ipykernel' into the Python environment. \n",
      "\u001b[1;31mCommand: 'conda install -n pytorch ipykernel --update-deps --force-reinstall'"
     ]
    }
   ],
   "source": [
    "import os\n",
    "print(os.getcwd())\n",
    "print(os.__file__)"
   ]
  },
  {
   "cell_type": "code",
   "execution_count": 16,
   "metadata": {},
   "outputs": [],
   "source": [
    "import torch\n",
    "import numpy as np"
   ]
  },
  {
   "cell_type": "markdown",
   "metadata": {},
   "source": [
    "Prevent Gradient History"
   ]
  },
  {
   "cell_type": "code",
   "execution_count": null,
   "metadata": {},
   "outputs": [],
   "source": [
    "x = torch.rand(3, requires_grad=True) \n",
    "print(x)\n",
    "# x.requires_grad_(False) \n",
    "# y = x.detach()\n",
    "# with torch.no_grad():\n",
    "y = x + 2\n",
    "print(y)\n",
    "print(x)\n",
    "print(y)\n",
    "\n"
   ]
  },
  {
   "cell_type": "markdown",
   "metadata": {},
   "source": [
    "Zero gradients"
   ]
  },
  {
   "cell_type": "code",
   "execution_count": 52,
   "metadata": {},
   "outputs": [
    {
     "name": "stdout",
     "output_type": "stream",
     "text": [
      "weights:  tensor([1., 1., 1., 1.], requires_grad=True)\n",
      "model_output:  tensor(16., grad_fn=<SumBackward0>)\n",
      "weights:  tensor([1., 1., 1., 1.], requires_grad=True)\n",
      "Grad weights tensor([1., 1., 1., 1.])\n",
      "Grad weights:  tensor([0., 0., 0., 0.])\n"
     ]
    }
   ],
   "source": [
    "weights = torch.ones(4, requires_grad=True) \n",
    "for epoch in range(1):\n",
    "  print('weights: ',weights)  \n",
    "\n",
    "  model_output = (weights+3).sum()  \n",
    "  print('model_output: ',model_output)\n",
    "  model_output.backward()\n",
    "  print('weights: ',weights)\n",
    "  print('Grad weights', weights.grad)\n",
    "  weights.grad.zero_()\n",
    "  print('Grad weights: ', weights.grad)"
   ]
  },
  {
   "cell_type": "markdown",
   "metadata": {},
   "source": [
    "Optimizer"
   ]
  },
  {
   "cell_type": "code",
   "execution_count": null,
   "metadata": {},
   "outputs": [],
   "source": [
    "weights = torch.ones(4, requires_grad=True) \n",
    "\n",
    "z.backward()\n",
    "\n",
    "weights.grad.zero_()\n"
   ]
  }
 ],
 "metadata": {
  "kernelspec": {
   "display_name": "myenv",
   "language": "python",
   "name": "python3"
  },
  "language_info": {
   "codemirror_mode": {
    "name": "ipython",
    "version": 3
   },
   "file_extension": ".py",
   "mimetype": "text/x-python",
   "name": "python",
   "nbconvert_exporter": "python",
   "pygments_lexer": "ipython3",
   "version": "3.9.12"
  }
 },
 "nbformat": 4,
 "nbformat_minor": 2
}
