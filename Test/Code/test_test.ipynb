{
 "cells": [
  {
   "cell_type": "code",
   "execution_count": 4,
   "metadata": {},
   "outputs": [],
   "source": [
    "import numpy as np\n",
    "import pandas as pd\n",
    "import matplotlib.pyplot as plt\n",
    "from scipy.optimize import curve_fit"
   ]
  },
  {
   "cell_type": "code",
   "execution_count": 19,
   "metadata": {},
   "outputs": [],
   "source": [
    "number_events = 100000\n",
    "y_pred_noise = np.random.normal(-1, 1, number_events)\n",
    "y_pred_signal = np.random.normal(1, 1, number_events)\n",
    "y_pred = np.concatenate((y_pred_noise, y_pred_signal))\n",
    "y_signal = np.ones(number_events)\n",
    "y_noise = np.zeros(number_events)\n",
    "y = np.concatenate((y_noise, y_signal))"
   ]
  },
  {
   "cell_type": "code",
   "execution_count": 3,
   "metadata": {},
   "outputs": [
    {
     "data": {
      "text/plain": [
       "<matplotlib.legend.Legend at 0x7f8f405eb4f0>"
      ]
     },
     "execution_count": 3,
     "metadata": {},
     "output_type": "execute_result"
    },
    {
     "data": {
      "image/png": "[encoded data removed]",
      "text/plain": [
       "<Figure size 432x288 with 1 Axes>"
      ]
     },
     "metadata": {
      "needs_background": "light"
     },
     "output_type": "display_data"
    }
   ],
   "source": [
    "_ = plt.hist(y_pred[y == 0], bins=100, alpha=0.5, label='noise')\n",
    "_ = plt.hist(y_pred[y == 1], bins=100, alpha=0.5, label='signal')\n",
    "plt.legend()"
   ]
  },
  {
   "cell_type": "code",
   "execution_count": 5,
   "metadata": {},
   "outputs": [],
   "source": [
    "# Define your function\n",
    "def func(x, a, b, c):\n",
    "    return a * np.exp(-b * x) + c"
   ]
  },
  {
   "cell_type": "code",
   "execution_count": 6,
   "metadata": {},
   "outputs": [
    {
     "name": "stderr",
     "output_type": "stream",
     "text": [
      "/tmp/ipykernel_720979/3160045278.py:11: RuntimeWarning: divide by zero encountered in log\n",
      "  ratio = np.log(1 - np.linspace(0.00000001, 1, len(noise)))\n"
     ]
    },
    {
     "name": "stderr",
     "output_type": "stream",
     "text": [
      "/tmp/ipykernel_720979/3160045278.py:17: UserWarning: Data has no positive values, and therefore cannot be log-scaled.\n",
      "  plt.yscale('log')\n",
      "/home/halin/.local/lib/python3.8/site-packages/numpy/lib/twodim_base.py:626: RuntimeWarning: overflow encountered in accumulate\n",
      "  multiply.accumulate(tmp[:, 1:], out=tmp[:, 1:], axis=1)\n",
      "/home/halin/.local/lib/python3.8/site-packages/numpy/lib/polynomial.py:666: RuntimeWarning: overflow encountered in multiply\n",
      "  scale = NX.sqrt((lhs*lhs).sum(axis=0))\n",
      "/home/halin/.local/lib/python3.8/site-packages/numpy/lib/polynomial.py:667: RuntimeWarning: invalid value encountered in true_divide\n",
      "  lhs /= scale\n"
     ]
    }
   ],
   "source": [
    "number_events = 100000\n",
    "cut = 0.0001\n",
    "y_pred_noise = np.random.normal(-2, 1, number_events)\n",
    "y_pred_signal = np.random.normal(2, 1, number_events)\n",
    "y_pred = np.concatenate((y_pred_noise, y_pred_signal))\n",
    "y_signal = np.ones(number_events)\n",
    "y_noise = np.zeros(number_events)\n",
    "y = np.concatenate((y_noise, y_signal))\n",
    "noise = y_pred[y == 0]\n",
    "y_pred_noise = np.sort(noise)\n",
    "ratio = 1 - np.linspace(0.00000001, 1, len(noise))\n",
    "mask = (ratio < cut*100)\n",
    "ratio_filtered = ratio[mask]\n",
    "\n",
    "y_pred_sorted_noise = y_pred_noise[mask]\n",
    "plt.scatter(y_pred_sorted_noise, ratio_filtered, label='noise')\n",
    "plt.yscale('log')\n",
    "p = np.poly1d(np.polyfit(y_pred_sorted_noise, ratio_filtered, int(len(ratio_filtered)/3) +1 ))\n",
    "popt, pcov = curve_fit(func, y_pred_sorted_noise, ratio_filtered)\n",
    "\n",
    "\n",
    "\n",
    "x_fit = np.linspace(np.min(y_pred_sorted_noise), np.max(y_pred_sorted_noise), 10000)\n",
    "y_poly_fit_2 = p(x_fit)\n",
    "y_func_fit = func(x_fit, *popt)\n",
    "threshold = np.amin(y_pred_sorted_noise[ratio_filtered < cut])\n",
    "fit_func_threshold = np.amin(x_fit[y_func_fit < cut])\n",
    "fit_poly_threshold = np.amin(x_fit[y_poly_fit_2 < cut])\n",
    "\n",
    "\n",
    "plt.plot(x_fit, y_poly_fit_2, label='poly fit 2')\n",
    "plt.plot(x_fit, y_func_fit, label='fit')\n",
    "plt.axvline(fit_func_threshold, color='red', label='func fit threshold')\n",
    "plt.axvline(threshold, color='green', label='threshold')\n",
    "plt.axvline(fit_poly_threshold, color='purple', label='poly fit threshold')\n",
    "plt.grid()\n",
    "plt.legend()\n",
    "\n",
    "pred_signal = y_pred[y == 1] > threshold\n",
    "efficiency = np.sum(pred_signal / np.sum(y == 1))\n",
    "print('Efficiency:', efficiency)\n",
    "\n",
    "pred_signal = y_pred[y == 1] > fit_func_threshold\n",
    "efficiency = np.sum(pred_signal / np.sum(y == 1))\n",
    "print('Efficiency fit:', efficiency)\n",
    "\n",
    "pred_signal = y_pred[y == 1] > fit_poly_threshold\n",
    "efficiency = np.sum(pred_signal / np.sum(y == 1))\n",
    "print('Efficiency poly fit:', efficiency)\n",
    "\n",
    "\n"
   ]
  },
  {
   "cell_type": "code",
   "execution_count": null,
   "metadata": {},
   "outputs": [],
   "source": []
  }
 ],
 "metadata": {
  "kernelspec": {
   "display_name": "base",
   "language": "python",
   "name": "python3"
  },
  "language_info": {
   "codemirror_mode": {
    "name": "ipython",
    "version": 3
   },
   "file_extension": ".py",
   "mimetype": "text/x-python",
   "name": "python",
   "nbconvert_exporter": "python",
   "pygments_lexer": "ipython3",
   "version": "3.8.3"
  }
 },
 "nbformat": 4,
 "nbformat_minor": 2
}
